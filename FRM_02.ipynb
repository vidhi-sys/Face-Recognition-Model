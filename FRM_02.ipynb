{
 "cells": [
  {
   "cell_type": "code",
   "execution_count": 3,
   "id": "573429a9-b631-475b-ab38-3efb00b00d7e",
   "metadata": {},
   "outputs": [],
   "source": [
    "#USE EXPLORATORY DATA ANALYSIS"
   ]
  },
  {
   "cell_type": "code",
   "execution_count": 4,
   "id": "434e0dfc-604f-4890-9efa-171c754866e3",
   "metadata": {},
   "outputs": [],
   "source": [
    "# structuring of data  and labelling \n"
   ]
  },
  {
   "cell_type": "code",
   "execution_count": 5,
   "id": "b31d546b-faf1-4719-9bb9-f4919c20bc72",
   "metadata": {},
   "outputs": [],
   "source": [
    "import pandas as pd\n",
    "import matplotlib.pyplot as plt\n",
    "import seaborn as sns\n",
    "import numpy as np\n",
    "from glob import glob"
   ]
  },
  {
   "cell_type": "code",
   "execution_count": 6,
   "id": "f65f6350-c447-4a6e-8ff9-b22318260c38",
   "metadata": {},
   "outputs": [],
   "source": [
    "fpath=glob('female/*.jpg')\n",
    "mpath=glob('male/*.jpg')"
   ]
  },
  {
   "cell_type": "code",
   "execution_count": 7,
   "id": "e5e08933-43c5-4a34-bff2-e4c94e008760",
   "metadata": {},
   "outputs": [
    {
     "data": {
      "text/html": [
       "<div>\n",
       "<style scoped>\n",
       "    .dataframe tbody tr th:only-of-type {\n",
       "        vertical-align: middle;\n",
       "    }\n",
       "\n",
       "    .dataframe tbody tr th {\n",
       "        vertical-align: top;\n",
       "    }\n",
       "\n",
       "    .dataframe thead th {\n",
       "        text-align: right;\n",
       "    }\n",
       "</style>\n",
       "<table border=\"1\" class=\"dataframe\">\n",
       "  <thead>\n",
       "    <tr style=\"text-align: right;\">\n",
       "      <th></th>\n",
       "      <th>filepath</th>\n",
       "      <th>gender</th>\n",
       "    </tr>\n",
       "  </thead>\n",
       "  <tbody>\n",
       "    <tr>\n",
       "      <th>0</th>\n",
       "      <td>female\\female_0.jpg</td>\n",
       "      <td>female</td>\n",
       "    </tr>\n",
       "    <tr>\n",
       "      <th>1</th>\n",
       "      <td>female\\female_1.jpg</td>\n",
       "      <td>female</td>\n",
       "    </tr>\n",
       "    <tr>\n",
       "      <th>2</th>\n",
       "      <td>female\\female_100.jpg</td>\n",
       "      <td>female</td>\n",
       "    </tr>\n",
       "    <tr>\n",
       "      <th>3</th>\n",
       "      <td>female\\female_1002.jpg</td>\n",
       "      <td>female</td>\n",
       "    </tr>\n",
       "    <tr>\n",
       "      <th>4</th>\n",
       "      <td>female\\female_1005.jpg</td>\n",
       "      <td>female</td>\n",
       "    </tr>\n",
       "  </tbody>\n",
       "</table>\n",
       "</div>"
      ],
      "text/plain": [
       "                 filepath  gender\n",
       "0     female\\female_0.jpg  female\n",
       "1     female\\female_1.jpg  female\n",
       "2   female\\female_100.jpg  female\n",
       "3  female\\female_1002.jpg  female\n",
       "4  female\\female_1005.jpg  female"
      ]
     },
     "execution_count": 7,
     "metadata": {},
     "output_type": "execute_result"
    }
   ],
   "source": [
    "df_female=pd.DataFrame(fpath,columns=['filepath'])\n",
    "df_female['gender']='female'\n",
    "df_male=pd.DataFrame(mpath,columns=['filepath'])\n",
    "df_male['gender']='male'\n",
    "df=pd.concat((df_female,df_male),axis=0)\n",
    "# To see first 5 rows\n",
    "(df.head())\n"
   ]
  },
  {
   "cell_type": "code",
   "execution_count": 8,
   "id": "01790c49-8d6a-41c6-87ca-90a43bc9abba",
   "metadata": {},
   "outputs": [],
   "source": [
    "from PIL import Image\n",
    "import os\n",
    "\n",
    "# Define the function first\n",
    "def get_size(filepath):\n",
    "    try:\n",
    "        with Image.open(filepath) as img:\n",
    "            return img.size\n",
    "    except Exception as e:\n",
    "        print(f\"Error with {filepath}: {str(e)}\")\n",
    "        return (None, None)\n",
    "\n"
   ]
  },
  {
   "cell_type": "code",
   "execution_count": 9,
   "id": "f42e6c67-00f1-4241-968d-e9e5f0aaff83",
   "metadata": {},
   "outputs": [
    {
     "data": {
      "text/html": [
       "<div>\n",
       "<style scoped>\n",
       "    .dataframe tbody tr th:only-of-type {\n",
       "        vertical-align: middle;\n",
       "    }\n",
       "\n",
       "    .dataframe tbody tr th {\n",
       "        vertical-align: top;\n",
       "    }\n",
       "\n",
       "    .dataframe thead th {\n",
       "        text-align: right;\n",
       "    }\n",
       "</style>\n",
       "<table border=\"1\" class=\"dataframe\">\n",
       "  <thead>\n",
       "    <tr style=\"text-align: right;\">\n",
       "      <th></th>\n",
       "      <th>filepath</th>\n",
       "      <th>gender</th>\n",
       "      <th>dimension</th>\n",
       "    </tr>\n",
       "  </thead>\n",
       "  <tbody>\n",
       "    <tr>\n",
       "      <th>0</th>\n",
       "      <td>female\\female_0.jpg</td>\n",
       "      <td>female</td>\n",
       "      <td>(273, 273)</td>\n",
       "    </tr>\n",
       "    <tr>\n",
       "      <th>1</th>\n",
       "      <td>female\\female_1.jpg</td>\n",
       "      <td>female</td>\n",
       "      <td>(182, 182)</td>\n",
       "    </tr>\n",
       "    <tr>\n",
       "      <th>2</th>\n",
       "      <td>female\\female_100.jpg</td>\n",
       "      <td>female</td>\n",
       "      <td>(122, 122)</td>\n",
       "    </tr>\n",
       "    <tr>\n",
       "      <th>3</th>\n",
       "      <td>female\\female_1002.jpg</td>\n",
       "      <td>female</td>\n",
       "      <td>(122, 122)</td>\n",
       "    </tr>\n",
       "    <tr>\n",
       "      <th>4</th>\n",
       "      <td>female\\female_1005.jpg</td>\n",
       "      <td>female</td>\n",
       "      <td>(182, 182)</td>\n",
       "    </tr>\n",
       "  </tbody>\n",
       "</table>\n",
       "</div>"
      ],
      "text/plain": [
       "                 filepath  gender   dimension\n",
       "0     female\\female_0.jpg  female  (273, 273)\n",
       "1     female\\female_1.jpg  female  (182, 182)\n",
       "2   female\\female_100.jpg  female  (122, 122)\n",
       "3  female\\female_1002.jpg  female  (122, 122)\n",
       "4  female\\female_1005.jpg  female  (182, 182)"
      ]
     },
     "execution_count": 9,
     "metadata": {},
     "output_type": "execute_result"
    }
   ],
   "source": [
    "# Then apply it to your DataFrame\n",
    "df['dimension'] = df['filepath'].apply(get_size)\n",
    "\n",
    "# Check results\n",
    "df.head()"
   ]
  },
  {
   "cell_type": "code",
   "execution_count": 10,
   "id": "78a148e6-8480-480b-bca9-0f015470c50d",
   "metadata": {},
   "outputs": [
    {
     "data": {
      "text/plain": [
       "<Axes: xlabel='gender'>"
      ]
     },
     "execution_count": 10,
     "metadata": {},
     "output_type": "execute_result"
    },
    {
     "data": {
      "image/png": "[encoded data removed]",
      "text/plain": [
       "<Figure size 640x480 with 2 Axes>"
      ]
     },
     "metadata": {},
     "output_type": "display_data"
    }
   ],
   "source": [
    " distributuion_gender=df['gender'].value_counts()\n",
    "fig,ax=plt.subplots(nrows=1,ncols=2)\n",
    " distributuion_gender.plot(kind='pie',ax=ax[1],autopct='%0.0f%%')\n",
    " distributuion_gender.plot(kind='bar',ax=ax[0])\n"
   ]
  },
  {
   "cell_type": "code",
   "execution_count": 11,
   "id": "121c13d1-d3f5-4d84-be23-e6293e0b680a",
   "metadata": {},
   "outputs": [
    {
     "name": "stdout",
     "output_type": "stream",
     "text": [
      "             width       height\n",
      "count  4757.000000  4757.000000\n",
      "mean    155.224932   155.224932\n",
      "std      72.009691    72.009691\n",
      "min      24.000000    24.000000\n",
      "25%      81.000000    81.000000\n",
      "50%     122.000000   122.000000\n",
      "75%     182.000000   182.000000\n",
      "max     410.000000   410.000000\n"
     ]
    }
   ],
   "source": [
    "# Extract width and height into separate columns\n",
    "df[['width', 'height']] = pd.DataFrame(df['dimension'].tolist(), index=df.index)\n",
    "\n",
    "# Now you can analyze them separately\n",
    "print(df[['width', 'height']].describe())"
   ]
  },
  {
   "cell_type": "code",
   "execution_count": 12,
   "id": "340e9eb7-125d-4d7d-bc1a-068250e0a6d5",
   "metadata": {},
   "outputs": [
    {
     "data": {
      "image/png": "[encoded data removed]",
      "text/plain": [
       "<Figure size 1200x600 with 2 Axes>"
      ]
     },
     "metadata": {},
     "output_type": "display_data"
    },
    {
     "data": {
      "image/png": "[encoded data removed]",
      "text/plain": [
       "<Figure size 1200x600 with 2 Axes>"
      ]
     },
     "metadata": {},
     "output_type": "display_data"
    }
   ],
   "source": [
    "import seaborn as sns\n",
    "import matplotlib.pyplot as plt\n",
    "plt.figure(figsize=(12, 6))\n",
    "plt.subplot(1, 2, 1)\n",
    "sns.histplot(data=df, x='width', bins=30, kde=True,color='yellow')\n",
    "plt.title('Image Width Distribution')\n",
    "\n",
    "plt.subplot(1, 2, 2)\n",
    "sns.histplot(data=df, x='height', bins=30, kde=True,color='orange')\n",
    "plt.title('Image Height Distribution')\n",
    "plt.tight_layout()\n",
    "plt.show()\n",
    "plt.figure(figsize=(12, 6))\n",
    "plt.subplot(1, 2, 1)\n",
    "sns.boxplot(data=df, y='width',color='purple')\n",
    "plt.title('Image Width Distribution')\n",
    "\n",
    "plt.subplot(1, 2, 2)\n",
    "sns.boxplot(data=df, y='height',color='pink')\n",
    "plt.title('Image Height Distribution')\n",
    "plt.tight_layout()\n",
    "plt.show()"
   ]
  },
  {
   "cell_type": "code",
   "execution_count": 13,
   "id": "87f28167-71d9-41ae-bb4c-e0ec21f5e108",
   "metadata": {},
   "outputs": [
    {
     "data": {
      "image/png": "[encoded data removed]",
      "text/plain": [
       "<Figure size 511.111x500 with 1 Axes>"
      ]
     },
     "metadata": {},
     "output_type": "display_data"
    },
    {
     "data": {
      "image/png": "[encoded data removed]",
      "text/plain": [
       "<Figure size 511.111x500 with 1 Axes>"
      ]
     },
     "metadata": {},
     "output_type": "display_data"
    }
   ],
   "source": [
    "\n",
    "# Width by gender\n",
    "g = sns.catplot(data=df, x='gender', y='width', kind='box',color='red')\n",
    "g.fig.suptitle('Image Width Distribution by Gender')\n",
    "plt.show()\n",
    "\n",
    "# Height by gender\n",
    "g = sns.catplot(data=df, x='gender', y='height', kind='box',color='lime')\n",
    "g.fig.suptitle('Image Height Distribution by Gender')\n",
    "plt.show()"
   ]
  },
  {
   "cell_type": "code",
   "execution_count": 14,
   "id": "50eb18fc-3061-42c6-b745-28d662b7ff9a",
   "metadata": {},
   "outputs": [],
   "source": [
    "#we have almost equal distribution of gender\n",
    "#most of the images are having dimension more than 60\n",
    "#females have most of femlae imgs are dimension is high compared to male"
   ]
  },
  {
   "cell_type": "code",
   "execution_count": 17,
   "id": "366ab5aa-5a8b-42ba-b53a-aacba2c1ba20",
   "metadata": {},
   "outputs": [
    {
     "data": {
      "text/plain": [
       "(4319, 5)"
      ]
     },
     "execution_count": 17,
     "metadata": {},
     "output_type": "execute_result"
    }
   ],
   "source": [
    "# Filter images where BOTH width and height > 60\n",
    "df_filter = df[(df['width'] > 60) & (df['height'] > 60)]\n",
    "df_filter.shape"
   ]
  },
  {
   "cell_type": "code",
   "execution_count": 18,
   "id": "1a3e82d7-ec3e-46ee-a18a-b1fbed6475bb",
   "metadata": {},
   "outputs": [
    {
     "data": {
      "text/plain": [
       "gender\n",
       "female    0.552211\n",
       "male      0.447789\n",
       "Name: proportion, dtype: float64"
      ]
     },
     "execution_count": 18,
     "metadata": {},
     "output_type": "execute_result"
    }
   ],
   "source": [
    "df_filter['gender'].value_counts(normalize=True)"
   ]
  },
  {
   "cell_type": "code",
   "execution_count": 27,
   "id": "c7b0ae88-bc99-4cd8-ae1d-e7e2b5714bfd",
   "metadata": {},
   "outputs": [
    {
     "name": "stdout",
     "output_type": "stream",
     "text": [
      "Processed 4319 images\n",
      "Successfully processed: 4319\n",
      "Sample processed data: [200 189 188 181 184 185 179 176 189 180]\n"
     ]
    }
   ],
   "source": [
    "import cv2\n",
    "import pandas as pd\n",
    "import numpy as np\n",
    "\n",
    "def structuring(path):\n",
    "    try:\n",
    "        # Read image\n",
    "        img = cv2.imread(path)\n",
    "        if img is None:\n",
    "            print(f\"Could not read image: {path}\")\n",
    "            return None\n",
    "            \n",
    "        # Convert to grayscale\n",
    "        gray = cv2.cvtColor(img, cv2.COLOR_BGR2GRAY)\n",
    "        \n",
    "        # Resize using appropriate interpolation\n",
    "        interpolation = cv2.INTER_AREA if gray.shape[0] >= 100 else cv2.INTER_CUBIC\n",
    "        gray_resize = cv2.resize(gray, (100, 100), interpolation)\n",
    "        \n",
    "        # Flatten and return\n",
    "        return gray_resize.flatten()\n",
    "    except Exception as e:\n",
    "        print(f\"Error processing {path}: {str(e)}\")\n",
    "        return None\n",
    "\n",
    "# Apply the function and verify\n",
    "df_filter = df_filter.copy()  # Create independent copy\n",
    "df_filter['data'] = df_filter['filepath'].apply(structuring)\n",
    "\n",
    "# Check results\n",
    "print(f\"Processed {len(df_filter)} images\")\n",
    "print(f\"Successfully processed: {df_filter['data'].notnull().sum()}\")\n",
    "print(\"Sample processed data:\", df_filter['data'].iloc[0][:10])  # First 10 values"
   ]
  },
  {
   "cell_type": "code",
   "execution_count": 33,
   "id": "0155d552-8933-477e-b001-3b213fb30269",
   "metadata": {},
   "outputs": [
    {
     "data": {
      "text/html": [
       "<div>\n",
       "<style scoped>\n",
       "    .dataframe tbody tr th:only-of-type {\n",
       "        vertical-align: middle;\n",
       "    }\n",
       "\n",
       "    .dataframe tbody tr th {\n",
       "        vertical-align: top;\n",
       "    }\n",
       "\n",
       "    .dataframe thead th {\n",
       "        text-align: right;\n",
       "    }\n",
       "</style>\n",
       "<table border=\"1\" class=\"dataframe\">\n",
       "  <thead>\n",
       "    <tr style=\"text-align: right;\">\n",
       "      <th></th>\n",
       "      <th>pixel_0</th>\n",
       "      <th>pixel_1</th>\n",
       "      <th>pixel_2</th>\n",
       "      <th>pixel_3</th>\n",
       "      <th>pixel_4</th>\n",
       "      <th>pixel_5</th>\n",
       "      <th>pixel_6</th>\n",
       "      <th>pixel_7</th>\n",
       "      <th>pixel_8</th>\n",
       "      <th>pixel_9</th>\n",
       "      <th>...</th>\n",
       "      <th>pixel_9990</th>\n",
       "      <th>pixel_9991</th>\n",
       "      <th>pixel_9992</th>\n",
       "      <th>pixel_9993</th>\n",
       "      <th>pixel_9994</th>\n",
       "      <th>pixel_9995</th>\n",
       "      <th>pixel_9996</th>\n",
       "      <th>pixel_9997</th>\n",
       "      <th>pixel_9998</th>\n",
       "      <th>pixel_9999</th>\n",
       "    </tr>\n",
       "  </thead>\n",
       "  <tbody>\n",
       "    <tr>\n",
       "      <th>0</th>\n",
       "      <td>200</td>\n",
       "      <td>189</td>\n",
       "      <td>188</td>\n",
       "      <td>181</td>\n",
       "      <td>184</td>\n",
       "      <td>185</td>\n",
       "      <td>179</td>\n",
       "      <td>176</td>\n",
       "      <td>189</td>\n",
       "      <td>180</td>\n",
       "      <td>...</td>\n",
       "      <td>109</td>\n",
       "      <td>106</td>\n",
       "      <td>108</td>\n",
       "      <td>111</td>\n",
       "      <td>113</td>\n",
       "      <td>115</td>\n",
       "      <td>120</td>\n",
       "      <td>117</td>\n",
       "      <td>118</td>\n",
       "      <td>122</td>\n",
       "    </tr>\n",
       "    <tr>\n",
       "      <th>1</th>\n",
       "      <td>31</td>\n",
       "      <td>25</td>\n",
       "      <td>35</td>\n",
       "      <td>25</td>\n",
       "      <td>31</td>\n",
       "      <td>29</td>\n",
       "      <td>30</td>\n",
       "      <td>31</td>\n",
       "      <td>34</td>\n",
       "      <td>34</td>\n",
       "      <td>...</td>\n",
       "      <td>45</td>\n",
       "      <td>27</td>\n",
       "      <td>22</td>\n",
       "      <td>30</td>\n",
       "      <td>22</td>\n",
       "      <td>35</td>\n",
       "      <td>20</td>\n",
       "      <td>35</td>\n",
       "      <td>65</td>\n",
       "      <td>19</td>\n",
       "    </tr>\n",
       "    <tr>\n",
       "      <th>2</th>\n",
       "      <td>49</td>\n",
       "      <td>49</td>\n",
       "      <td>35</td>\n",
       "      <td>34</td>\n",
       "      <td>42</td>\n",
       "      <td>40</td>\n",
       "      <td>35</td>\n",
       "      <td>39</td>\n",
       "      <td>71</td>\n",
       "      <td>62</td>\n",
       "      <td>...</td>\n",
       "      <td>210</td>\n",
       "      <td>230</td>\n",
       "      <td>231</td>\n",
       "      <td>237</td>\n",
       "      <td>238</td>\n",
       "      <td>230</td>\n",
       "      <td>220</td>\n",
       "      <td>212</td>\n",
       "      <td>210</td>\n",
       "      <td>208</td>\n",
       "    </tr>\n",
       "    <tr>\n",
       "      <th>3</th>\n",
       "      <td>137</td>\n",
       "      <td>128</td>\n",
       "      <td>114</td>\n",
       "      <td>96</td>\n",
       "      <td>96</td>\n",
       "      <td>95</td>\n",
       "      <td>93</td>\n",
       "      <td>114</td>\n",
       "      <td>150</td>\n",
       "      <td>163</td>\n",
       "      <td>...</td>\n",
       "      <td>66</td>\n",
       "      <td>53</td>\n",
       "      <td>68</td>\n",
       "      <td>67</td>\n",
       "      <td>74</td>\n",
       "      <td>92</td>\n",
       "      <td>97</td>\n",
       "      <td>103</td>\n",
       "      <td>102</td>\n",
       "      <td>96</td>\n",
       "    </tr>\n",
       "    <tr>\n",
       "      <th>4</th>\n",
       "      <td>234</td>\n",
       "      <td>236</td>\n",
       "      <td>231</td>\n",
       "      <td>231</td>\n",
       "      <td>231</td>\n",
       "      <td>185</td>\n",
       "      <td>142</td>\n",
       "      <td>111</td>\n",
       "      <td>52</td>\n",
       "      <td>45</td>\n",
       "      <td>...</td>\n",
       "      <td>241</td>\n",
       "      <td>240</td>\n",
       "      <td>236</td>\n",
       "      <td>237</td>\n",
       "      <td>239</td>\n",
       "      <td>237</td>\n",
       "      <td>237</td>\n",
       "      <td>242</td>\n",
       "      <td>241</td>\n",
       "      <td>241</td>\n",
       "    </tr>\n",
       "  </tbody>\n",
       "</table>\n",
       "<p>5 rows × 10000 columns</p>\n",
       "</div>"
      ],
      "text/plain": [
       "   pixel_0  pixel_1  pixel_2  pixel_3  pixel_4  pixel_5  pixel_6  pixel_7  \\\n",
       "0      200      189      188      181      184      185      179      176   \n",
       "1       31       25       35       25       31       29       30       31   \n",
       "2       49       49       35       34       42       40       35       39   \n",
       "3      137      128      114       96       96       95       93      114   \n",
       "4      234      236      231      231      231      185      142      111   \n",
       "\n",
       "   pixel_8  pixel_9  ...  pixel_9990  pixel_9991  pixel_9992  pixel_9993  \\\n",
       "0      189      180  ...         109         106         108         111   \n",
       "1       34       34  ...          45          27          22          30   \n",
       "2       71       62  ...         210         230         231         237   \n",
       "3      150      163  ...          66          53          68          67   \n",
       "4       52       45  ...         241         240         236         237   \n",
       "\n",
       "   pixel_9994  pixel_9995  pixel_9996  pixel_9997  pixel_9998  pixel_9999  \n",
       "0         113         115         120         117         118         122  \n",
       "1          22          35          20          35          65          19  \n",
       "2         238         230         220         212         210         208  \n",
       "3          74          92          97         103         102          96  \n",
       "4         239         237         237         242         241         241  \n",
       "\n",
       "[5 rows x 10000 columns]"
      ]
     },
     "execution_count": 33,
     "metadata": {},
     "output_type": "execute_result"
    }
   ],
   "source": [
    "data=df_filter['data'].apply(pd.Series)\n",
    "data.columns=[f\"pixel_{i}\" for i in data.columns]\n",
    "data.head()"
   ]
  },
  {
   "cell_type": "code",
   "execution_count": 35,
   "id": "6b8bc4ce-387b-4e0c-bec1-e1d9d5fff094",
   "metadata": {},
   "outputs": [
    {
     "data": {
      "text/html": [
       "<div>\n",
       "<style scoped>\n",
       "    .dataframe tbody tr th:only-of-type {\n",
       "        vertical-align: middle;\n",
       "    }\n",
       "\n",
       "    .dataframe tbody tr th {\n",
       "        vertical-align: top;\n",
       "    }\n",
       "\n",
       "    .dataframe thead th {\n",
       "        text-align: right;\n",
       "    }\n",
       "</style>\n",
       "<table border=\"1\" class=\"dataframe\">\n",
       "  <thead>\n",
       "    <tr style=\"text-align: right;\">\n",
       "      <th></th>\n",
       "      <th>pixel_0</th>\n",
       "      <th>pixel_1</th>\n",
       "      <th>pixel_2</th>\n",
       "      <th>pixel_3</th>\n",
       "      <th>pixel_4</th>\n",
       "      <th>pixel_5</th>\n",
       "      <th>pixel_6</th>\n",
       "      <th>pixel_7</th>\n",
       "      <th>pixel_8</th>\n",
       "      <th>pixel_9</th>\n",
       "      <th>...</th>\n",
       "      <th>pixel_9991</th>\n",
       "      <th>pixel_9992</th>\n",
       "      <th>pixel_9993</th>\n",
       "      <th>pixel_9994</th>\n",
       "      <th>pixel_9995</th>\n",
       "      <th>pixel_9996</th>\n",
       "      <th>pixel_9997</th>\n",
       "      <th>pixel_9998</th>\n",
       "      <th>pixel_9999</th>\n",
       "      <th>gender</th>\n",
       "    </tr>\n",
       "  </thead>\n",
       "  <tbody>\n",
       "    <tr>\n",
       "      <th>0</th>\n",
       "      <td>0.003076</td>\n",
       "      <td>0.002907</td>\n",
       "      <td>0.002891</td>\n",
       "      <td>0.002784</td>\n",
       "      <td>0.002830</td>\n",
       "      <td>0.002845</td>\n",
       "      <td>0.002753</td>\n",
       "      <td>0.002707</td>\n",
       "      <td>0.002907</td>\n",
       "      <td>0.002768</td>\n",
       "      <td>...</td>\n",
       "      <td>0.001630</td>\n",
       "      <td>0.001661</td>\n",
       "      <td>0.001707</td>\n",
       "      <td>0.001738</td>\n",
       "      <td>0.001769</td>\n",
       "      <td>0.001845</td>\n",
       "      <td>0.001799</td>\n",
       "      <td>0.001815</td>\n",
       "      <td>0.001876</td>\n",
       "      <td>female</td>\n",
       "    </tr>\n",
       "    <tr>\n",
       "      <th>1</th>\n",
       "      <td>0.000477</td>\n",
       "      <td>0.000384</td>\n",
       "      <td>0.000538</td>\n",
       "      <td>0.000384</td>\n",
       "      <td>0.000477</td>\n",
       "      <td>0.000446</td>\n",
       "      <td>0.000461</td>\n",
       "      <td>0.000477</td>\n",
       "      <td>0.000523</td>\n",
       "      <td>0.000523</td>\n",
       "      <td>...</td>\n",
       "      <td>0.000415</td>\n",
       "      <td>0.000338</td>\n",
       "      <td>0.000461</td>\n",
       "      <td>0.000338</td>\n",
       "      <td>0.000538</td>\n",
       "      <td>0.000308</td>\n",
       "      <td>0.000538</td>\n",
       "      <td>0.001000</td>\n",
       "      <td>0.000292</td>\n",
       "      <td>female</td>\n",
       "    </tr>\n",
       "    <tr>\n",
       "      <th>2</th>\n",
       "      <td>0.000754</td>\n",
       "      <td>0.000754</td>\n",
       "      <td>0.000538</td>\n",
       "      <td>0.000523</td>\n",
       "      <td>0.000646</td>\n",
       "      <td>0.000615</td>\n",
       "      <td>0.000538</td>\n",
       "      <td>0.000600</td>\n",
       "      <td>0.001092</td>\n",
       "      <td>0.000953</td>\n",
       "      <td>...</td>\n",
       "      <td>0.003537</td>\n",
       "      <td>0.003552</td>\n",
       "      <td>0.003645</td>\n",
       "      <td>0.003660</td>\n",
       "      <td>0.003537</td>\n",
       "      <td>0.003383</td>\n",
       "      <td>0.003260</td>\n",
       "      <td>0.003230</td>\n",
       "      <td>0.003199</td>\n",
       "      <td>female</td>\n",
       "    </tr>\n",
       "    <tr>\n",
       "      <th>3</th>\n",
       "      <td>0.002107</td>\n",
       "      <td>0.001968</td>\n",
       "      <td>0.001753</td>\n",
       "      <td>0.001476</td>\n",
       "      <td>0.001476</td>\n",
       "      <td>0.001461</td>\n",
       "      <td>0.001430</td>\n",
       "      <td>0.001753</td>\n",
       "      <td>0.002307</td>\n",
       "      <td>0.002507</td>\n",
       "      <td>...</td>\n",
       "      <td>0.000815</td>\n",
       "      <td>0.001046</td>\n",
       "      <td>0.001030</td>\n",
       "      <td>0.001138</td>\n",
       "      <td>0.001415</td>\n",
       "      <td>0.001492</td>\n",
       "      <td>0.001584</td>\n",
       "      <td>0.001569</td>\n",
       "      <td>0.001476</td>\n",
       "      <td>female</td>\n",
       "    </tr>\n",
       "    <tr>\n",
       "      <th>4</th>\n",
       "      <td>0.003599</td>\n",
       "      <td>0.003629</td>\n",
       "      <td>0.003552</td>\n",
       "      <td>0.003552</td>\n",
       "      <td>0.003552</td>\n",
       "      <td>0.002845</td>\n",
       "      <td>0.002184</td>\n",
       "      <td>0.001707</td>\n",
       "      <td>0.000800</td>\n",
       "      <td>0.000692</td>\n",
       "      <td>...</td>\n",
       "      <td>0.003691</td>\n",
       "      <td>0.003629</td>\n",
       "      <td>0.003645</td>\n",
       "      <td>0.003676</td>\n",
       "      <td>0.003645</td>\n",
       "      <td>0.003645</td>\n",
       "      <td>0.003722</td>\n",
       "      <td>0.003706</td>\n",
       "      <td>0.003706</td>\n",
       "      <td>female</td>\n",
       "    </tr>\n",
       "  </tbody>\n",
       "</table>\n",
       "<p>5 rows × 10001 columns</p>\n",
       "</div>"
      ],
      "text/plain": [
       "    pixel_0   pixel_1   pixel_2   pixel_3   pixel_4   pixel_5   pixel_6  \\\n",
       "0  0.003076  0.002907  0.002891  0.002784  0.002830  0.002845  0.002753   \n",
       "1  0.000477  0.000384  0.000538  0.000384  0.000477  0.000446  0.000461   \n",
       "2  0.000754  0.000754  0.000538  0.000523  0.000646  0.000615  0.000538   \n",
       "3  0.002107  0.001968  0.001753  0.001476  0.001476  0.001461  0.001430   \n",
       "4  0.003599  0.003629  0.003552  0.003552  0.003552  0.002845  0.002184   \n",
       "\n",
       "    pixel_7   pixel_8   pixel_9  ...  pixel_9991  pixel_9992  pixel_9993  \\\n",
       "0  0.002707  0.002907  0.002768  ...    0.001630    0.001661    0.001707   \n",
       "1  0.000477  0.000523  0.000523  ...    0.000415    0.000338    0.000461   \n",
       "2  0.000600  0.001092  0.000953  ...    0.003537    0.003552    0.003645   \n",
       "3  0.001753  0.002307  0.002507  ...    0.000815    0.001046    0.001030   \n",
       "4  0.001707  0.000800  0.000692  ...    0.003691    0.003629    0.003645   \n",
       "\n",
       "   pixel_9994  pixel_9995  pixel_9996  pixel_9997  pixel_9998  pixel_9999  \\\n",
       "0    0.001738    0.001769    0.001845    0.001799    0.001815    0.001876   \n",
       "1    0.000338    0.000538    0.000308    0.000538    0.001000    0.000292   \n",
       "2    0.003660    0.003537    0.003383    0.003260    0.003230    0.003199   \n",
       "3    0.001138    0.001415    0.001492    0.001584    0.001569    0.001476   \n",
       "4    0.003676    0.003645    0.003645    0.003722    0.003706    0.003706   \n",
       "\n",
       "   gender  \n",
       "0  female  \n",
       "1  female  \n",
       "2  female  \n",
       "3  female  \n",
       "4  female  \n",
       "\n",
       "[5 rows x 10001 columns]"
      ]
     },
     "execution_count": 35,
     "metadata": {},
     "output_type": "execute_result"
    }
   ],
   "source": [
    "#Normalization\n",
    "data=data/255.0\n",
    "data['gender']=df_filter['gender']\n",
    "data.head()"
   ]
  },
  {
   "cell_type": "code",
   "execution_count": 37,
   "id": "e7a81eaf-dfec-4951-8862-ddf23ee53986",
   "metadata": {},
   "outputs": [
    {
     "data": {
      "text/plain": [
       "pixel_0       0\n",
       "pixel_1       0\n",
       "pixel_2       0\n",
       "pixel_3       0\n",
       "pixel_4       0\n",
       "             ..\n",
       "pixel_9996    0\n",
       "pixel_9997    0\n",
       "pixel_9998    0\n",
       "pixel_9999    0\n",
       "gender        0\n",
       "Length: 10001, dtype: int64"
      ]
     },
     "execution_count": 37,
     "metadata": {},
     "output_type": "execute_result"
    }
   ],
   "source": [
    "data.isnull().sum() #calculate missing values "
   ]
  },
  {
   "cell_type": "code",
   "execution_count": 41,
   "id": "89f079fe-df43-4d34-b382-f9d602cc817c",
   "metadata": {},
   "outputs": [],
   "source": [
    "#save data\n",
    "import pickle \n",
    "pickle.dump(data,open('./data_images_100_100.pickle',mode='wb'))"
   ]
  },
  {
   "cell_type": "code",
   "execution_count": null,
   "id": "85eab4e4-5697-4e49-8830-e6ec99e9db29",
   "metadata": {},
   "outputs": [],
   "source": []
  }
 ],
 "metadata": {
  "kernelspec": {
   "display_name": "Python 3 (ipykernel)",
   "language": "python",
   "name": "python3"
  },
  "language_info": {
   "codemirror_mode": {
    "name": "ipython",
    "version": 3
   },
   "file_extension": ".py",
   "mimetype": "text/x-python",
   "name": "python",
   "nbconvert_exporter": "python",
   "pygments_lexer": "ipython3",
   "version": "3.13.5"
  }
 },
 "nbformat": 4,
 "nbformat_minor": 5
}
